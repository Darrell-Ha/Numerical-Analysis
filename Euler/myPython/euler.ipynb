{
 "cells": [
  {
   "cell_type": "markdown",
   "metadata": {},
   "source": [
    "#### **Chuẩn bị:** thư viện và một số công cụ"
   ]
  },
  {
   "cell_type": "code",
   "execution_count": 4,
   "metadata": {},
   "outputs": [],
   "source": [
    "import numpy as np\n",
    "import math\n",
    "import matplotlib.pyplot as plt"
   ]
  },
  {
   "cell_type": "markdown",
   "metadata": {},
   "source": [
    "#### **Euler hiện:** $y_{k+1} = y_k + hf(x,y_k)$"
   ]
  },
  {
   "cell_type": "code",
   "execution_count": 83,
   "metadata": {},
   "outputs": [],
   "source": [
    "def Euler_Forward(x_test, y0, h):\n",
    "    res = []\n",
    "    y = y0\n",
    "    for i in range (len(x_test)):\n",
    "        x = x_test[i]\n",
    "        res.append(y)\n",
    "        y = y + h * f(x,y)\n",
    "    return res"
   ]
  },
  {
   "cell_type": "markdown",
   "metadata": {},
   "source": [
    "#### *Phương pháp* **Euler hiện** giải ptvp cấp $k$"
   ]
  },
  {
   "cell_type": "code",
   "execution_count": 1,
   "metadata": {},
   "outputs": [],
   "source": [
    "# INPUT: [x0,X], Y=[y^(n-1)(x_0) = y1,.....], n, h\n",
    "def N_Euler_Forward(x_test, Y, degN, h):\n",
    "    res = []\n",
    "    Z = np.copy(Y)\n",
    "    for i in range (len(x_test)):\n",
    "        res.append(Z[0])\n",
    "        for j in range(degN-1):\n",
    "            Z[j] = Z[j] + h*Z[j+1]\n",
    "        Z[degN-1] = Z[degN-1] + h * g(x_test[i],Z)\n",
    "    return res"
   ]
  },
  {
   "cell_type": "markdown",
   "metadata": {},
   "source": [
    "#### **Euler ẩn:** $y_{k+1} = y_k + hf(x+h, y_k+hf(x,y_k))$"
   ]
  },
  {
   "cell_type": "code",
   "execution_count": 84,
   "metadata": {},
   "outputs": [],
   "source": [
    "def Euler_Backward(x_test, y0, h):\n",
    "    res = []\n",
    "    y = y0\n",
    "    I = 0\n",
    "    for i in range (len(x_test)):\n",
    "        x = x_test[i]\n",
    "        res.append(y)\n",
    "        I = h * f(x + h, y + h*f(x, y))\n",
    "        y = y + I\n",
    "    return res"
   ]
  },
  {
   "cell_type": "markdown",
   "metadata": {},
   "source": [
    "#### **Hình thang:** \n",
    "$y_{i+1} = y_i + \\dfrac{h}{2}\\times\\left(F(x_i, y_i) + F(x_{i+1}, y_{i+1})\\right)$"
   ]
  },
  {
   "cell_type": "code",
   "execution_count": 91,
   "metadata": {},
   "outputs": [],
   "source": [
    "def Trapezoidal(x_test, y0, h):\n",
    "    res = []\n",
    "    y = y0\n",
    "    I = 0\n",
    "    for i in range (len(x_test)):\n",
    "        x = x_test[i]\n",
    "        res.append(y)\n",
    "        I = (h/2) * (f(x, y) + f(x+h, y + h*f(x,y)))\n",
    "        y = y + I\n",
    "    return res"
   ]
  },
  {
   "cell_type": "markdown",
   "metadata": {},
   "source": [
    "#### *Phương pháp* **Hình thang** giải ptvp cấp $k$"
   ]
  },
  {
   "cell_type": "code",
   "execution_count": 2,
   "metadata": {},
   "outputs": [],
   "source": [
    "def N_Trapezoidal(x_test, Y, degN, h):\n",
    "    res = []\n",
    "    Z1 = np.zeros(degN, dtype=float)\n",
    "    Z2 = np.zeros(degN, dtype=float)\n",
    "    Z = np.copy(Y)\n",
    "    for i in range(len(x_test)):\n",
    "        res.append(Z[0])\n",
    "        for j in range(degN-1):\n",
    "            Z2[j] = Z[j] + h * Z[j + 1]\n",
    "        Z2[degN - 1] = Z[degN - 1] + h * g(x_test[i], Z)\n",
    "        for j in range(degN-1):\n",
    "            Z1[j] = Z[j] + 0.5 * h * (Z[j + 1] + Z2[j + 1])\n",
    "        Z1[degN-1] = Z[degN-1] + 0.5 * h * (g(x_test[i],Z) + g(x_test[i]+h, Z2))\n",
    "        Z = Z1\n",
    "    return res"
   ]
  },
  {
   "cell_type": "markdown",
   "metadata": {},
   "source": [
    "#### ***INPUT:*** $y(x_0) = y_0, h, X: [x_0, X]$"
   ]
  },
  {
   "cell_type": "code",
   "execution_count": 5,
   "metadata": {},
   "outputs": [],
   "source": [
    "x0 = 0                  # x_0\n",
    "y0 = 1                  # y(x_0) = y_0\n",
    "X = 1                   # [x0,X]\n",
    "h = 1e-1;               # khoảng cách điểm chia: h = x_{i+1} - x_{i}\n",
    "n = 2                   # Bậc của phương trình vi phân\n",
    "answer_correct     = [] # Nghiệm đúng\n",
    "res_Euler_Forward  = [] # Nghiệm thu từ Euler hiện\n",
    "res_Euler_Backward = [] # Nghiệm thu từ Euler ẩn\n",
    "res_Trapezoidal    = [] # Nghiệm thu được từ Hình thang \n",
    "Y = [2,1]               # các giá trị ban đầu\n",
    "# các giá trị x\n",
    "x_test = np.linspace(x0,X,(int)((X-x0)/h + 1))"
   ]
  },
  {
   "cell_type": "code",
   "execution_count": 6,
   "metadata": {},
   "outputs": [],
   "source": [
    "## Áp dụng khi giải phương trình vi phân bậc nhất (y'= f(x,y))\n",
    "def f(x,y):\n",
    "    return x + y\n",
    "\n",
    "## Áp dụng khi giải phương trình vi phân cấp k (y^(k) = g(x,y,y^(1),...,y^(k-1)))\n",
    "def g(x,y):\n",
    "    return -2*y[0] -2*y[1] \n",
    "\n",
    "## Viết hàm là nghiệm chính xác tại đây\n",
    "def y_correct():\n",
    "    y = []\n",
    "    for i in range (len(x_test)):\n",
    "        x = x_test[i]\n",
    "        y.append(math.pow(math.e,-x)*(2*math.cos(x)+3*math.sin(x)))\n",
    "    return y\n",
    "\n",
    "answer_correct = y_correct()"
   ]
  },
  {
   "cell_type": "markdown",
   "metadata": {},
   "source": [
    "#### *Cách 1* Euler hiện"
   ]
  },
  {
   "cell_type": "code",
   "execution_count": 7,
   "metadata": {},
   "outputs": [
    {
     "name": "stdout",
     "output_type": "stream",
     "text": [
      " \n",
      "      x           y          forward        ss\n",
      "0.000000000   2.000000000  2.000000000  0.000000000 \n",
      "\n",
      "0.100000000   2.071633033  2.000000000  0.071633033 \n",
      "\n",
      "0.200000000   2.092791367  2.000000000  0.092791367 \n",
      "\n",
      "0.300000000   2.072241617  2.000000000  0.072241617 \n",
      "\n",
      "0.400000000   2.017916059  2.000000000  0.017916059 \n",
      "\n",
      "0.500000000   1.936920325  2.000000000  0.063079675 \n",
      "\n",
      "0.600000000   1.835554657  2.000000000  0.164445343 \n",
      "\n",
      "0.700000000   1.719345888  2.000000000  0.280654112 \n",
      "\n",
      "0.800000000   1.593087616  2.000000000  0.406912384 \n",
      "\n",
      "0.900000000   1.460886372  2.000000000  0.539113628 \n",
      "\n",
      "1.000000000   1.326211848  2.000000000  0.673788152 \n",
      "\n"
     ]
    }
   ],
   "source": [
    "## ptvp cấp 1\n",
    "# res_Euler_Forward = Euler_Forward(x_test, y0, h)\n",
    "## ptvp cấp n\n",
    "res_Euler_Forward = N_Euler_Forward(x_test, Y, n, h)\n",
    "print(\" \\n      x           y          forward        ss\")\n",
    "\n",
    "for i in range (len(x_test)):\n",
    "    y = answer_correct[i]\n",
    "    print(\"%-7.9f   %-7.9f  %-7.9f  %-7.9f \\n\"\n",
    "     %(x_test[i],y,res_Euler_Forward[i],math.fabs(y-res_Euler_Forward[i])))"
   ]
  },
  {
   "cell_type": "markdown",
   "metadata": {},
   "source": [
    "#### *Cách 2* Euler ẩn"
   ]
  },
  {
   "cell_type": "code",
   "execution_count": null,
   "metadata": {},
   "outputs": [],
   "source": [
    "res_Euler_Backward = Euler_Backward(x_test, y0, h)\n",
    "print(\" \\n   x              y         backward        ss\")\n",
    "for i in range (len(x_test)):\n",
    "    y = answer_correct[i]\n",
    "    print(\"%-7.9f   %-7.9f  %-7.9f  %-7.9f \\n\"\n",
    "     %(x_test[i],y,res_Euler_Backward[i],math.fabs(y-res_Euler_Backward[i])))"
   ]
  },
  {
   "cell_type": "markdown",
   "metadata": {},
   "source": [
    "#### *Cách 3:* Hình thang"
   ]
  },
  {
   "cell_type": "code",
   "execution_count": 8,
   "metadata": {},
   "outputs": [
    {
     "name": "stdout",
     "output_type": "stream",
     "text": [
      " \n",
      "   x              y         trapzoidal       ss\n",
      "0.000000000   2.000000000  2.000000000  0.000000000 \n",
      "\n",
      "0.100000000   2.071633033  2.070000000  0.001633033 \n",
      "\n",
      "0.200000000   2.092791367  2.089800000  0.002991367 \n",
      "\n",
      "0.300000000   2.072241617  2.067994800  0.004246817 \n",
      "\n",
      "0.400000000   2.017916059  2.012921507  0.004994552 \n",
      "\n",
      "0.500000000   1.936920325  1.931927826  0.004992499 \n",
      "\n",
      "0.600000000   1.835554657  1.831427945  0.004126712 \n",
      "\n",
      "0.700000000   1.719345888  1.716964646  0.002381242 \n",
      "\n",
      "0.800000000   1.593087616  1.593275330  0.000187715 \n",
      "\n",
      "0.900000000   1.460886372  1.464360022  0.003473650 \n",
      "\n",
      "1.000000000   1.326211848  1.333549729  0.007337881 \n",
      "\n"
     ]
    }
   ],
   "source": [
    "## ptvp cấp 1\n",
    "# res_Trapezoidal = Euler_Forward(x_test, y0, h)\n",
    "## ptvp cấp n\n",
    "res_Trapezoidal = N_Trapezoidal(x_test, Y, n, h)\n",
    "print(\" \\n   x              y         trapzoidal       ss\")\n",
    "for i in range (len(x_test)):\n",
    "    y = answer_correct[i]\n",
    "    print(\"%-7.9f   %-7.9f  %-7.9f  %-7.9f \\n\"\n",
    "     %(x_test[i],y,res_Trapezoidal[i],math.fabs(y-res_Trapezoidal[i])))"
   ]
  },
  {
   "cell_type": "markdown",
   "metadata": {},
   "source": [
    "#### **Đồ thị**"
   ]
  },
  {
   "cell_type": "code",
   "execution_count": 9,
   "metadata": {},
   "outputs": [
    {
     "data": {
      "image/png": "[encoded data removed]",
      "text/plain": [
       "<Figure size 432x288 with 1 Axes>"
      ]
     },
     "metadata": {
      "needs_background": "light"
     },
     "output_type": "display_data"
    }
   ],
   "source": [
    "## vẽ đồ thị\n",
    "plt.plot(x_test,answer_correct,'purple',label='Y')\n",
    "plt.plot(x_test,res_Euler_Forward,'red', label = 'forward')\n",
    "# plt.plot(x_test,res_Euler_Backward,'blue', label = 'backward')\n",
    "plt.plot(x_test,res_Trapezoidal,'green', label = 'trapzoidal')\n",
    "plt.legend()\n",
    "plt.show()"
   ]
  }
 ],
 "metadata": {
  "interpreter": {
   "hash": "183bbf6827d058c2a2fb0f4acdc0420849dda2b4380af0e437e38c64d798d8b7"
  },
  "kernelspec": {
   "display_name": "Python 3.8.8 ('base')",
   "language": "python",
   "name": "python3"
  },
  "language_info": {
   "codemirror_mode": {
    "name": "ipython",
    "version": 3
   },
   "file_extension": ".py",
   "mimetype": "text/x-python",
   "name": "python",
   "nbconvert_exporter": "python",
   "pygments_lexer": "ipython3",
   "version": "3.8.8"
  },
  "orig_nbformat": 4
 },
 "nbformat": 4,
 "nbformat_minor": 2
}
