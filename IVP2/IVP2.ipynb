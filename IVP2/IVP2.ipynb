{
 "cells": [
  {
   "cell_type": "markdown",
   "metadata": {},
   "source": [
    "# Phương trình vi phân cấp 2 và hệ phương trình vi phân cấp 1 với 3 biến số"
   ]
  },
  {
   "cell_type": "markdown",
   "metadata": {},
   "source": [
    "# Phương trình vi phân cấp 2 sẽ đưa về dạng hệ phương trình vi phân cấp 1 với 3 biến số x, y, z bằng cách đặt z = y'"
   ]
  },
  {
   "cell_type": "code",
   "execution_count": 2,
   "metadata": {},
   "outputs": [],
   "source": [
    "import numpy as np\n",
    "import math\n",
    "import matplotlib.pyplot as plt"
   ]
  },
  {
   "cell_type": "markdown",
   "metadata": {},
   "source": [
    "## Input"
   ]
  },
  {
   "cell_type": "code",
   "execution_count": 10,
   "metadata": {},
   "outputs": [],
   "source": [
    "# y' = f(x, y, z)\n",
    "# z' = g(x, y, z)\n",
    "# y(x0) = y0\n",
    "# z(x0) = z0\n",
    "# Giá trị x cận trên X cần tính\n",
    "# Bước nhảy h\n",
    "def f(x, y, z):\n",
    "    return 1.5*(1-y/32)*y-(0.5*(y**2)*z)/(1+15*(y**2))\n",
    "def g(x, y, z):\n",
    "    return -0.35*z+(0.35*(y**2)*z)/(1+15*y**2)\n",
    "x0 = 0\n",
    "y0 = 6\n",
    "z0 = 4\n",
    "h = 0.1\n",
    "X = 10"
   ]
  },
  {
   "cell_type": "code",
   "execution_count": 11,
   "metadata": {},
   "outputs": [],
   "source": [
    "def IVPs(x0, y0, z0, h, X):\n",
    "    resultY = []\n",
    "    resultZ = []\n",
    "    N = round((X - x0)/h + 1)\n",
    "    resultY.append(y0)\n",
    "    resultZ.append(z0)\n",
    "    for i in range(1, N):\n",
    "        k1 = h * f(x0, y0, z0)\n",
    "        i1 = h * g(x0, y0, z0)\n",
    "        k2 = h * f(x0 + h/2, y0 + k1/2, z0 + i1/2)\n",
    "        i2 = h * g(x0 + h/2, y0 + k1/2, z0 + i1/2)\n",
    "        k3 = h * f(x0 + h/2, y0 + k2/2, z0 + i2/2)\n",
    "        i3 = h * g(x0 + h/2, y0 + k2/2, z0 + i2/2)\n",
    "        k4 = h * f(x0 + h, y0 + k3, z0 + i3)\n",
    "        i4 = h * g(x0 + h, y0 + k3, z0 + i3)\n",
    "        deltaY = k1 + 2*k2 + 2*k3 + k4\n",
    "        deltaZ = i1 + 2*i2 + 2*i3 + i4\n",
    "        x0 += h\n",
    "        y0 += deltaY/6\n",
    "        z0 += deltaZ/6\n",
    "        resultY.append(y0)\n",
    "        resultZ.append(z0)\n",
    "    return resultY, resultZ"
   ]
  },
  {
   "cell_type": "markdown",
   "metadata": {},
   "source": [
    "## output chạy chương trình và biểu đồ kết quả"
   ]
  },
  {
   "cell_type": "code",
   "execution_count": 15,
   "metadata": {},
   "outputs": [
    {
     "name": "stdout",
     "output_type": "stream",
     "text": [
      "0.000000000    6.000000000    4.000000000    \n",
      "0.100000000    6.752005735    3.871429639    \n",
      "0.200000000    7.572467453    3.746994848    \n",
      "0.300000000    8.460708329    3.626561846    \n",
      "0.400000000    9.414311483    3.510001377    \n",
      "0.500000000    10.428941521   3.397188502    \n",
      "0.600000000    11.498259123   3.288002425    \n",
      "0.700000000    12.613955213   3.182326317    \n",
      "0.800000000    13.765921870   3.080047175    \n",
      "0.900000000    14.942562875   2.981055674    \n",
      "1.000000000    16.131229546   2.885246042    \n",
      "1.100000000    17.318750132   2.792515930    \n",
      "1.200000000    18.492007201   2.702766301    \n",
      "1.300000000    19.638509974   2.615901317    \n",
      "1.400000000    20.746909411   2.531828229    \n",
      "1.500000000    21.807412600   2.450457280    \n",
      "1.600000000    22.812067835   2.371701603    \n",
      "1.700000000    23.754909335   2.295477126    \n",
      "1.800000000    24.631967459   2.221702487    \n",
      "1.900000000    25.441163727   2.150298938    \n",
      "2.000000000    26.182118322   2.081190267    \n",
      "2.100000000    26.855900894   2.014302711    \n",
      "2.200000000    27.464754057   1.949564880    \n",
      "2.300000000    28.011814516   1.886907680    \n",
      "2.400000000    28.500850663   1.826264237    \n",
      "2.500000000    28.936029107   1.767569828    \n",
      "2.600000000    29.321716857   1.710761812    \n",
      "2.700000000    29.662321219   1.655779558    \n",
      "2.800000000    29.962166144   1.602564388    \n",
      "2.900000000    30.225401566   1.551059507    \n",
      "3.000000000    30.455941185   1.501209949    \n",
      "3.100000000    30.657423711   1.452962510    \n",
      "3.200000000    30.833192740   1.406265700    \n",
      "3.300000000    30.986290886   1.361069683    \n",
      "3.400000000    31.119464358   1.317326224    \n",
      "3.500000000    31.235174851   1.274988640    \n",
      "3.600000000    31.335616224   1.234011745    \n",
      "3.700000000    31.422734022   1.194351809    \n",
      "3.800000000    31.498246346   1.155966505    \n",
      "3.900000000    31.563665027   1.118814869    \n",
      "4.000000000    31.620316323   1.082857251    \n",
      "4.100000000    31.669360669   1.048055276    \n",
      "4.200000000    31.711811134   1.014371803    \n",
      "4.300000000    31.748550449   0.981770884    \n",
      "4.400000000    31.780346514   0.950217727    \n",
      "4.500000000    31.807866395   0.919678659    \n",
      "4.600000000    31.831688871   0.890121086    \n",
      "4.700000000    31.852315600   0.861513465    \n",
      "4.800000000    31.870181014   0.833825265    \n",
      "4.900000000    31.885661041   0.807026936    \n",
      "5.000000000    31.899080779   0.781089880    \n",
      "5.100000000    31.910721214   0.755986416    \n",
      "5.200000000    31.920825093   0.731689752    \n",
      "5.300000000    31.929602047   0.708173960    \n",
      "5.400000000    31.937233050   0.685413942    \n",
      "5.500000000    31.943874295   0.663385409    \n",
      "5.600000000    31.949660557   0.642064851    \n",
      "5.700000000    31.954708112   0.621429516    \n",
      "5.800000000    31.959117260   0.601457380    \n",
      "5.900000000    31.962974514   0.582127128    \n",
      "6.000000000    31.966354491   0.563418132    \n",
      "6.100000000    31.969321542   0.545310425    \n",
      "6.200000000    31.971931171   0.527784682    \n",
      "6.300000000    31.974231246   0.510822199    \n",
      "6.400000000    31.976263058   0.494404874    \n",
      "6.500000000    31.978062224   0.478515186    \n",
      "6.600000000    31.979659472   0.463136176    \n",
      "6.700000000    31.981081317   0.448251433    \n",
      "6.800000000    31.982350640   0.433845071    \n",
      "6.900000000    31.983487193   0.419901715    \n",
      "7.000000000    31.984508031   0.406406485    \n",
      "7.100000000    31.985427884   0.393344979    \n",
      "7.200000000    31.986259478   0.380703256    \n",
      "7.300000000    31.987013814   0.368467827    \n",
      "7.400000000    31.987700402   0.356625632    \n",
      "7.500000000    31.988327470   0.345164033    \n",
      "7.600000000    31.988902143   0.334070799    \n",
      "7.700000000    31.989430588   0.323334091    \n",
      "7.800000000    31.989918154   0.312942450    \n",
      "7.900000000    31.990369478   0.302884786    \n",
      "8.000000000    31.990788588   0.293150366    \n",
      "8.100000000    31.991178983   0.283728800    \n",
      "8.200000000    31.991543706   0.274610034    \n",
      "8.300000000    31.991885409   0.265784337    \n",
      "8.400000000    31.992206404   0.257242288    \n",
      "8.500000000    31.992508709   0.248974773    \n",
      "8.600000000    31.992794091   0.240972968    \n",
      "8.700000000    31.993064095   0.233228333    \n",
      "8.800000000    31.993320080   0.225732602    \n",
      "8.900000000    31.993563239   0.218477778    \n",
      "9.000000000    31.993794625   0.211456116    \n",
      "9.100000000    31.994015166   0.204660123    \n",
      "9.200000000    31.994225685   0.198082548    \n",
      "9.300000000    31.994426913   0.191716368    \n",
      "9.400000000    31.994619498   0.185554792    \n",
      "9.500000000    31.994804023   0.179591243    \n",
      "9.600000000    31.994981005   0.173819356    \n",
      "9.700000000    31.995150912   0.168232972    \n",
      "9.800000000    31.995314164   0.162826129    \n",
      "9.900000000    31.995471141   0.157593057    \n",
      "10.000000000   31.995622187   0.152528171    \n"
     ]
    },
    {
     "data": {
      "text/plain": [
       "[<matplotlib.lines.Line2D at 0x2a1ced373d0>]"
      ]
     },
     "execution_count": 15,
     "metadata": {},
     "output_type": "execute_result"
    },
    {
     "data": {
      "image/png": "[encoded data removed]",
      "text/plain": [
       "<Figure size 432x288 with 1 Axes>"
      ]
     },
     "metadata": {
      "needs_background": "light"
     },
     "output_type": "display_data"
    }
   ],
   "source": [
    "resultY, resultZ = IVPs(x0, y0, z0, h, X)\n",
    "resultY\n",
    "resx = []\n",
    "for i in range(len(resultY)):\n",
    "    x = x0 + i*h;\n",
    "    resx.append(x)\n",
    "    print(\"%-15.9f%-15.9f%-15.9f\"%(x,resultY[i],resultZ[i]))\n",
    "\n",
    "plt.plot(resultY,resultZ)"
   ]
  }
 ],
 "metadata": {
  "interpreter": {
   "hash": "a8f61be024eba58adef938c9aa1e29e02cb3dece83a5348b1a2dafd16a070453"
  },
  "kernelspec": {
   "display_name": "Python 3.8.5 64-bit ('base': conda)",
   "language": "python",
   "name": "python3"
  },
  "language_info": {
   "codemirror_mode": {
    "name": "ipython",
    "version": 3
   },
   "file_extension": ".py",
   "mimetype": "text/x-python",
   "name": "python",
   "nbconvert_exporter": "python",
   "pygments_lexer": "ipython3",
   "version": "3.8.8"
  },
  "orig_nbformat": 4
 },
 "nbformat": 4,
 "nbformat_minor": 2
}
