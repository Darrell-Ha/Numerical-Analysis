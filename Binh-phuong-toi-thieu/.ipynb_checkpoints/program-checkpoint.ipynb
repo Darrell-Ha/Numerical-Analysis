{
 "cells": [
  {
   "cell_type": "markdown",
   "metadata": {},
   "source": [
    "### Đây là project test cho bình phương tối thiểu"
   ]
  },
  {
   "cell_type": "code",
   "execution_count": 9,
   "metadata": {},
   "outputs": [],
   "source": [
    "import math"
   ]
  },
  {
   "cell_type": "code",
   "execution_count": 10,
   "metadata": {},
   "outputs": [],
   "source": [
    "import numpy as np"
   ]
  },
  {
   "cell_type": "code",
   "execution_count": 11,
   "metadata": {},
   "outputs": [],
   "source": [
    "import matplotlib.pyplot as plt"
   ]
  },
  {
   "cell_type": "markdown",
   "metadata": {},
   "source": [
    "##### ***Define*** một số function"
   ]
  },
  {
   "cell_type": "code",
   "execution_count": 12,
   "metadata": {},
   "outputs": [],
   "source": [
    "def u0(x):\n",
    "  return 1\n",
    "def u1(x):\n",
    "  return x\n",
    "def u2(x):\n",
    "  return x**2\n",
    "def u3(x):\n",
    "  return x**3\n",
    "def u4(x):\n",
    "  return x**4\n",
    "def u5(x):\n",
    "  return math.sin(x)\n",
    "def u6(x):\n",
    "  return math.cos(x)\n",
    "def u7(x):\n",
    "  return math.sin(2*x)\n",
    "def u8(x):\n",
    "  return math.cos(2*x)\n",
    "def u9(x):\n",
    "  return math.exp(x)\n",
    "def u10(x):\n",
    "  return math.exp(-x)"
   ]
  },
  {
   "cell_type": "markdown",
   "metadata": {},
   "source": [
    "##### ***Load input:*** Nhập từ file *input.txt* "
   ]
  },
  {
   "cell_type": "code",
   "execution_count": 16,
   "metadata": {},
   "outputs": [
    {
     "name": "stdout",
     "output_type": "stream",
     "text": [
      "Input Satisfied\n"
     ]
    },
    {
     "data": {
      "text/plain": [
       "<matplotlib.collections.PathCollection at 0x22402fe5100>"
      ]
     },
     "execution_count": 16,
     "metadata": {},
     "output_type": "execute_result"
    },
    {
     "data": {
      "image/png": "[encoded data removed]",
      "text/plain": [
       "<Figure size 432x288 with 1 Axes>"
      ]
     },
     "metadata": {
      "needs_background": "light"
     },
     "output_type": "display_data"
    }
   ],
   "source": [
    "x = []\n",
    "y = []\n",
    "check = True\n",
    "with open ('input3.txt','r') as f:\n",
    "  for line in f:\n",
    "    #print(line)\n",
    "    try:\n",
    "      (_x,_y)=line.split(' ')\n",
    "      x.append(float(_x))\n",
    "      y.append(float(_y))\n",
    "    except ValueError:\n",
    "      check=False\n",
    "      print(\"Oops!Check Input,plz...\")\n",
    "# print(x)\n",
    "# print(y)\n",
    "# check input\n",
    "if check:\n",
    "  if len(x) == len(y):\n",
    "    print(\"Input Satisfied\")\n",
    "  else:\n",
    "    print(\"Check Input\")\n",
    "\n",
    "plt.scatter(x,y)\n",
    "\n",
    "#Output here!!"
   ]
  },
  {
   "cell_type": "markdown",
   "metadata": {},
   "source": [
    "***Lưu ý:***\n",
    "\n",
    "* *đối với hàm phi tuyến:* $y=ae^{bx+cx^2+\\ldots}$ thì cần có bước chuyển\n",
    "$$y^\\ast = \\ln(y)$$\n",
    "$$y^\\ast=\\ln(y) = \\ln(a)+bx+cx^2+\\ldots$$\n",
    "$\\Rightarrow v = (\\ln(a),b,c,\\ldots)$\n",
    "* Còn với $y=ax^b$ thì cần chuyển thêm \n",
    "$$x^\\ast=\\ln(x)$$\n",
    "$$y^\\ast = \\ln(y)$$\n",
    "$$y^\\ast=\\ln(a)+bx^\\ast$$\n",
    "$\\Rightarrow v = (\\ln(a),b)$"
   ]
  },
  {
   "cell_type": "code",
   "execution_count": 17,
   "metadata": {},
   "outputs": [],
   "source": [
    "## Hàm đa thức với lượng giác thì không cần, False hết\n",
    "NotLinear = False\n",
    "NotLinear_Abx = False"
   ]
  },
  {
   "cell_type": "code",
   "execution_count": 18,
   "metadata": {},
   "outputs": [
    {
     "name": "stdout",
     "output_type": "stream",
     "text": [
      "[0.5235987756, 1.047197551, 1.570796327, 2.094395102, 2.617993878, 3.141592654, 3.665191429, 4.188790205, 4.71238898, 5.235987756, 5.759586532, 6.283185307] [2.611, 3.102, 2.912, 2.105, 0.612, -1.321, -1.906, -2.412, -2.802, -2.703, -1.61, 1.5]\n"
     ]
    }
   ],
   "source": [
    "\n",
    "def ConvertXY(x,y):\n",
    "    y_converted = []\n",
    "    x_converted = []\n",
    "    if NotLinear:\n",
    "        for i in range(len(y)):\n",
    "            temp_y = math.log(y[i])\n",
    "            y_converted.append(temp_y)\n",
    "            if NotLinear_Abx:\n",
    "                temp_x = math.log(x[i])\n",
    "                x_converted.append(temp_x)\n",
    "            else:\n",
    "                x_converted.append(x[i])\n",
    "    else:\n",
    "        y_converted = y\n",
    "        x_converted = x    \n",
    "    return (x_converted,y_converted)\n",
    "\n",
    "(temp_x,temp_y) = ConvertXY(x,y)\n",
    "print(temp_x,temp_y)"
   ]
  },
  {
   "cell_type": "markdown",
   "metadata": {},
   "source": [
    "**Vector** u: Chọn hệ cơ sở $\\text{span}$ phù hợp với yêu cầu"
   ]
  },
  {
   "cell_type": "markdown",
   "metadata": {},
   "source": [
    "Đa thức: $1,x,x^2,x^3,\\ldots$\n",
    "\n",
    "Lượng giác: $1,\\cos x, \\sin x, \\cos 2x, \\sin 2x,\\ldots$\n",
    "\n",
    "$y=ae^{bx+cx^2+\\ldots}\\Rightarrow\\ln(y) = \\ln(a) + bx + cx^2+\\ldots\\Rightarrow$ đa thức\n",
    "\n",
    "tương tự với $y = ax^b$"
   ]
  },
  {
   "cell_type": "code",
   "execution_count": 19,
   "metadata": {},
   "outputs": [],
   "source": [
    "u = [u0,u6,u5,u8,u7]"
   ]
  },
  {
   "cell_type": "markdown",
   "metadata": {},
   "source": [
    "**Step1:** thay các giá trị $x$ vào cơ sở $u$"
   ]
  },
  {
   "cell_type": "code",
   "execution_count": 20,
   "metadata": {},
   "outputs": [
    {
     "name": "stdout",
     "output_type": "stream",
     "text": [
      "[[ 1.00000000e+00  8.66025404e-01  5.00000000e-01  5.00000000e-01\n",
      "   8.66025404e-01]\n",
      " [ 1.00000000e+00  5.00000000e-01  8.66025404e-01 -5.00000000e-01\n",
      "   8.66025404e-01]\n",
      " [ 1.00000000e+00 -2.05103429e-10  1.00000000e+00 -1.00000000e+00\n",
      "  -4.10206857e-10]\n",
      " [ 1.00000000e+00 -5.00000000e-01  8.66025404e-01 -5.00000001e-01\n",
      "  -8.66025403e-01]\n",
      " [ 1.00000000e+00 -8.66025404e-01  5.00000000e-01  5.00000000e-01\n",
      "  -8.66025404e-01]\n",
      " [ 1.00000000e+00 -1.00000000e+00 -4.10206857e-10  1.00000000e+00\n",
      "   8.20413714e-10]\n",
      " [ 1.00000000e+00 -8.66025404e-01 -5.00000000e-01  5.00000000e-01\n",
      "   8.66025404e-01]\n",
      " [ 1.00000000e+00 -5.00000000e-01 -8.66025404e-01 -5.00000000e-01\n",
      "   8.66025404e-01]\n",
      " [ 1.00000000e+00 -3.84689797e-10 -1.00000000e+00 -1.00000000e+00\n",
      "   7.69379594e-10]\n",
      " [ 1.00000000e+00  5.00000000e-01 -8.66025404e-01 -5.00000000e-01\n",
      "  -8.66025404e-01]\n",
      " [ 1.00000000e+00  8.66025404e-01 -5.00000000e-01  5.00000001e-01\n",
      "  -8.66025403e-01]\n",
      " [ 1.00000000e+00  1.00000000e+00 -1.79586369e-10  1.00000000e+00\n",
      "  -3.59172737e-10]]\n"
     ]
    }
   ],
   "source": [
    "def Insert_x(u,x):\n",
    "    result=[]\n",
    "    for i in range(len(u)):\n",
    "        temp=list(map(u[i],x))\n",
    "        result.append(temp)\n",
    "    return np.array(result).T\n",
    "    \n",
    "## Running\n",
    "theta = Insert_x(u,temp_x)\n",
    "print(theta)"
   ]
  },
  {
   "cell_type": "markdown",
   "metadata": {},
   "source": [
    "**Step 2:** Nhân $M = \\Theta^T.\\Theta$"
   ]
  },
  {
   "cell_type": "code",
   "execution_count": 21,
   "metadata": {},
   "outputs": [],
   "source": [
    "M = theta.T@theta\n",
    "# print(M)"
   ]
  },
  {
   "cell_type": "markdown",
   "metadata": {},
   "source": [
    "**Step 3:** Tính $B = \\phi^T.y$"
   ]
  },
  {
   "cell_type": "code",
   "execution_count": 22,
   "metadata": {},
   "outputs": [
    {
     "name": "stdout",
     "output_type": "stream",
     "text": [
      "[ 0.088       5.1615283  18.02261422 -0.1235      2.59028198]\n"
     ]
    }
   ],
   "source": [
    "B = theta.T@temp_y\n",
    "print(B)"
   ]
  },
  {
   "cell_type": "markdown",
   "metadata": {},
   "source": [
    "**Step 4:** Giải hệ $Mv=B$ bằng cách $v = M^{-1}.B$\n",
    "$\\Rightarrow$ Tìm $M^{-1}$"
   ]
  },
  {
   "cell_type": "markdown",
   "metadata": {},
   "source": [
    "* Cách tìm $M^{-1}$ bằng phương pháp **viền quanh**"
   ]
  },
  {
   "cell_type": "code",
   "execution_count": 122,
   "metadata": {},
   "outputs": [],
   "source": [
    "def vienquanh_inverse(A):\n",
    "    n,_=A.shape\n",
    "    if n==1:\n",
    "        return 1/A\n",
    "    elif n>1:\n",
    "        start=1/A[0,0]\n",
    "        for i in range(n-1):\n",
    "            alpha11=start\n",
    "            alpha12=A[:(i+1),i+1].reshape(i+1,1)\n",
    "            alpha21=A[i+1,:i+1]\n",
    "            alpha22=A[i+1,i+1]\n",
    "            if i==0:\n",
    "                X=alpha11*alpha12\n",
    "            else :\n",
    "                X=alpha11@alpha12\n",
    "            if i==0:\n",
    "                Y=alpha21*alpha11\n",
    "            else :\n",
    "                Y=alpha21@alpha11\n",
    "                Y=Y.reshape(1,-1)\n",
    "            if i==0:\n",
    "                theta=alpha22-Y*alpha12\n",
    "            else :\n",
    "                theta=alpha22-Y@alpha12           \n",
    "            if i==0:\n",
    "                beta11=alpha11+(1/theta)*(X*Y)\n",
    "            else :\n",
    "                beta11=alpha11+(1/theta)*(X@Y)            \n",
    "            beta12=-(1/theta)*X\n",
    "            beta21=-(1/theta)*Y\n",
    "            beta22=1/theta\n",
    "            tempt_result=np.vstack((np.hstack((beta11,beta12)),np.hstack((beta21,beta22))))\n",
    "            start=tempt_result\n",
    "            np.savetxt('output.txt',tempt_result)    \n",
    "        return tempt_result\n",
    "\n",
    "resInverseM_way1 = vienquanh_inverse(M) "
   ]
  },
  {
   "cell_type": "markdown",
   "metadata": {},
   "source": [
    "* Cách dùng thư viện"
   ]
  },
  {
   "cell_type": "code",
   "execution_count": 23,
   "metadata": {},
   "outputs": [],
   "source": [
    "resInverseM_way2 = np.linalg.pinv(M)"
   ]
  },
  {
   "cell_type": "markdown",
   "metadata": {},
   "source": [
    "Tính $v$ = ??"
   ]
  },
  {
   "cell_type": "code",
   "execution_count": 24,
   "metadata": {},
   "outputs": [
    {
     "name": "stdout",
     "output_type": "stream",
     "text": [
      "[ 0.00733333  0.86025472  3.00376904 -0.02058333  0.43171366]\n"
     ]
    }
   ],
   "source": [
    "M1 = resInverseM_way2\n",
    "v = M1@B    \n",
    "print(v)"
   ]
  },
  {
   "cell_type": "markdown",
   "metadata": {},
   "source": [
    "#### *Phần vẽ đồ thị kết quả*"
   ]
  },
  {
   "cell_type": "code",
   "execution_count": 25,
   "metadata": {},
   "outputs": [
    {
     "data": {
      "image/png": "[encoded data removed]",
      "text/plain": [
       "<Figure size 432x288 with 1 Axes>"
      ]
     },
     "metadata": {
      "needs_background": "light"
     },
     "output_type": "display_data"
    }
   ],
   "source": [
    "def find_y(x,u,v):\n",
    "  y=0\n",
    "  for i in range (len(u)):\n",
    "    if NotLinear_Abx:\n",
    "      y = y+v[i]*u[i](math.log(x)) \n",
    "    else:\n",
    "      y = y+v[i]*u[i](x) \n",
    "  ## design here\n",
    "  if NotLinear:\n",
    "    y = math.exp(y)\n",
    "  return y\n",
    "\n",
    "def graph(x,y,u,v):\n",
    "  x_test=np.linspace(min(x),max(x),100000)\n",
    "  y_test=[]\n",
    "  for i in range (len(x_test)):\n",
    "    y_test.append(find_y(x_test[i],u,v))\n",
    "  plt.scatter(x,y,s=30,cmap='palete')\n",
    "  plt.plot(x_test,y_test,'red')\n",
    "  \n",
    "  plt.show()\n",
    "\n",
    "\n",
    "graph(x,y,u,v)"
   ]
  }
 ],
 "metadata": {
  "interpreter": {
   "hash": "183bbf6827d058c2a2fb0f4acdc0420849dda2b4380af0e437e38c64d798d8b7"
  },
  "kernelspec": {
   "display_name": "Python 3.8.8 ('base')",
   "language": "python",
   "name": "python3"
  },
  "language_info": {
   "codemirror_mode": {
    "name": "ipython",
    "version": 3
   },
   "file_extension": ".py",
   "mimetype": "text/x-python",
   "name": "python",
   "nbconvert_exporter": "python",
   "pygments_lexer": "ipython3",
   "version": "3.8.8"
  },
  "orig_nbformat": 4
 },
 "nbformat": 4,
 "nbformat_minor": 2
}
