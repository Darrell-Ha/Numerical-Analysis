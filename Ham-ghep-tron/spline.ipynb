{
 "cells": [
  {
   "cell_type": "code",
   "execution_count": 1,
   "metadata": {},
   "outputs": [],
   "source": [
    "import numpy as np\n",
    "import matplotlib.pyplot as plt"
   ]
  },
  {
   "cell_type": "markdown",
   "metadata": {},
   "source": [
    "##### **Input Data:** từ file **`input.txt`**"
   ]
  },
  {
   "cell_type": "code",
   "execution_count": 2,
   "metadata": {},
   "outputs": [],
   "source": [
    "def data():\n",
    "    x = []\n",
    "    y = []\n",
    "    with open('input.txt','r+') as f:\n",
    "            for line in f.readlines():\n",
    "                xt = float(line.split(' ')[0])\n",
    "                yt = float(line.split(' ')[1])\n",
    "                check = True\n",
    "                for x_check in x:\n",
    "                    if x_check == xt:\n",
    "                        check = False\n",
    "                        break\n",
    "                if check:\n",
    "                    x.append(xt)\n",
    "                    y.append(yt)\n",
    "    x = np.asarray(x)\n",
    "    y = np.asarray(y)\n",
    "    n = len(x)-1\n",
    "    return x,y,n\n",
    "\n",
    "x,y,n = data()"
   ]
  },
  {
   "cell_type": "markdown",
   "metadata": {},
   "source": [
    "##### **Function** Tính mảng giá trị $m$"
   ]
  },
  {
   "cell_type": "code",
   "execution_count": 3,
   "metadata": {},
   "outputs": [],
   "source": [
    "def tinhM(x,y,n):\n",
    "    m=np.empty(n+1)\n",
    "    d=np.empty(n+1)\n",
    "    anpha=np.empty(n+1)\n",
    "    beta=np.empty(n+1)\n",
    "    muy=np.empty(n+1)\n",
    "    lamda=np.empty(n+1)\n",
    "    h=np.diff(x)\n",
    "    \n",
    "    dh0=(y[1]-y[0])/(x[1]-x[0])\n",
    "    dhn=(y[n]-y[n-1])/(x[n]-x[n-1])\n",
    "    d[0]=6/h[0]*((y[1]-y[0])/h[0]-dh0)\n",
    "    d[n]=6/h[n-1]*(dhn-(y[n]-y[n-1])/h[n-1])\n",
    "    anpha[1]=1/(-2)\n",
    "    beta[1]=d[0]/2\n",
    "    for i in range(1,n):\n",
    "        d[i]=6*((y[i+1]-y[i])/h[i]-(y[i]-y[i-1])/h[i-1])/(h[i]+h[i-1])\n",
    "    for i in range(1,n):\n",
    "        muy[i]=h[i-1]/(h[i-1]+h[i])\n",
    "        lamda[i]=h[i]/(h[i-1]+h[i])\n",
    "    for i in range(1,n):\n",
    "        anpha[i+1]=lamda[i]/(-2-anpha[i]*muy[i])\n",
    "        beta[i+1]=(muy[i]*beta[i]-d[i])/(-2-anpha[i]*muy[i])\n",
    "    m[n]=(1*beta[n]-d[n])/(-2-1*anpha[n])\n",
    "    for i in range(n-1,-1,-1):\n",
    "        m[i]=anpha[i+1]*m[i+1]+beta[i+1]\n",
    "    return m"
   ]
  },
  {
   "cell_type": "markdown",
   "metadata": {},
   "source": [
    "##### Xây dựng hàm **Spline bậc 3**"
   ]
  },
  {
   "cell_type": "code",
   "execution_count": 18,
   "metadata": {},
   "outputs": [],
   "source": [
    "def spline3(k,x0):\n",
    "    h = np.diff(x)\n",
    "    m = tinhM(x,y,n)\n",
    "    if k==1:\n",
    "        for j in range(1,n+1):\n",
    "            print('S3' +'['+ str(x[j-1])+','+str(x[j])+']'+' = ' \n",
    "                    + str(round(m[j - 1] / (6 * h[j - 1]),3)) + '(' + str(x[j]) + ' - x)^3' +\n",
    "                  '+ ' + str(round(m[j] / (h[j - 1] * 6),3)) + '(x-' + str(x[j - 1]) + ')^3' +\n",
    "                  '+ ' + str(round((1 / h[j - 1]) * (y[j - 1] - m[j - 1] / 6 * h[j - 1] ** 2),3)) + '(' + str(x[j]) + '-x)' +\n",
    "                  '+ ' + str(round((y[j] - (m[j] / 6) * h[j - 1] ** 2) / h[j - 1],3)) + '(x-' + str(x[j - 1]) + ')')\n",
    "    for i in range(1,n+1):\n",
    "        if x[i-1]<=x0 and x0<=x[i]:\n",
    "            s3=m[i-1]/(6*h[i-1])*(x[i]-x0)**3+m[i]/(h[i-1]*6)*(x0-x[i-1])**3+(1/h[i-1])*(y[i-1]-m[i-1]/6*h[i-1]**2)*(x[i]-x0) +(y[i]-(m[i]/6)*h[i-1]**2)*(x0-x[i-1])/h[i-1]\n",
    "    return s3"
   ]
  },
  {
   "cell_type": "code",
   "execution_count": 19,
   "metadata": {},
   "outputs": [
    {
     "name": "stdout",
     "output_type": "stream",
     "text": [
      "========================================================================================\n",
      "Cac da thuc spline bac 3\n",
      "S3[0.0,0.52] = 0.097(0.52 - x)^3+ -0.194(x-0.0)^3+ -0.026(0.52-x)+ 1.014(x-0.0)\n",
      "S3[0.52,1.05] = -0.19(1.05 - x)^3+ -0.277(x-0.52)^3+ 0.997(1.05-x)+ 1.719(x-0.52)\n",
      "S3[1.05,1.57] = -0.282(1.57 - x)^3+ -0.32(x-1.05)^3+ 1.749(1.57-x)+ 2.01(x-1.05)\n",
      "S3[1.57,2.09] = -0.32(2.09 - x)^3+ -0.288(x-1.57)^3+ 2.01(2.09-x)+ 1.751(x-1.57)\n",
      "S3[2.09,2.62] = -0.283(2.62 - x)^3+ -0.168(x-2.09)^3+ 1.721(2.62-x)+ 0.99(x-2.09)\n",
      "S3[2.62,3.14] = -0.171(3.14 - x)^3+ 0.009(x-2.62)^3+ 1.008(3.14-x)+ -0.002(x-2.62)\n",
      "S3[3.14,3.66] = 0.009(3.66 - x)^3+ 0.135(x-3.14)^3+ -0.002(3.66-x)+ -0.998(x-3.14)\n",
      "S3[3.66,4.17] = 0.137(4.17 - x)^3+ 0.344(x-3.66)^3+ -1.016(4.17-x)+ -1.795(x-3.66)\n",
      "S3[4.17,4.71] = 0.325(4.71 - x)^3+ 0.277(x-4.17)^3+ -1.706(4.71-x)+ -1.933(x-4.17)\n",
      "S3[4.71,5.23] = 0.288(5.23 - x)^3+ 0.291(x-4.71)^3+ -2.001(5.23-x)+ -1.752(x-4.71)\n",
      "S3[5.23,5.76] = 0.285(5.76 - x)^3+ 0.188(x-5.23)^3+ -1.722(5.76-x)+ -0.996(x-5.23)\n",
      "S3[5.76,6.28] = 0.192(6.28 - x)^3+ -0.096(x-5.76)^3+ -1.013(6.28-x)+ 0.026(x-5.76)\n"
     ]
    },
    {
     "data": {
      "text/plain": [
       "0.0"
      ]
     },
     "execution_count": 19,
     "metadata": {},
     "output_type": "execute_result"
    }
   ],
   "source": [
    "print(\"========================================================================================\")\n",
    "print(\"Cac da thuc spline bac 3\")\n",
    "spline3(1,x[0])"
   ]
  },
  {
   "cell_type": "markdown",
   "metadata": {},
   "source": [
    "##### Xây dựng hàm **Spline bậc 1**"
   ]
  },
  {
   "cell_type": "code",
   "execution_count": 5,
   "metadata": {},
   "outputs": [],
   "source": [
    "def spline1(k,x0):\n",
    "    h = np.diff(x)\n",
    "    if k==1:\n",
    "        for i in range(1,n+1):\n",
    "            print('S1'+'['+str(x[i-1])+', '+str(x[i])+']='+str(round(y[i-1]/h[i-1],3))+'('+str(x[i])+'-x)'+'+'+str(round(y[i]/h[i-1],3))+'(x-'+str(x[i-1])+')')\n",
    "    for i in range(1,n+1):\n",
    "        if x[i-1]<=x0 and x0<=x[i]:\n",
    "            s1=y[i-1]/h[i-1]*(x[i]-x0)+y[i]/h[i-1]*(x0-x[i-1])\n",
    "    return s1\n"
   ]
  },
  {
   "cell_type": "code",
   "execution_count": null,
   "metadata": {},
   "outputs": [],
   "source": [
    "print(\"========================================================================================\")\n",
    "print(\"Cac da thuc spline bac 1:\")\n",
    "spline1(1,x[0])"
   ]
  },
  {
   "cell_type": "markdown",
   "metadata": {},
   "source": [
    "##### Xây dựng hàm **Spline bậc 2**"
   ]
  },
  {
   "cell_type": "code",
   "execution_count": 6,
   "metadata": {},
   "outputs": [],
   "source": [
    "def spline2(k,x0):\n",
    "    h = np.diff(x)\n",
    "    m = np.empty(n+1)\n",
    "    m[0]=(y[1]-y[0])/h[0]\n",
    "    for i in range(1,n+1):\n",
    "        m[i]=2/h[i-1]*(y[i]-y[i-1])-m[i-1]\n",
    "    if k==1:\n",
    "        for i in range(1,n+1):\n",
    "            print('S2'+'['+str(x[i-1])+', '+str(x[i])+']='+str(round(-m[i-1]/2/h[i-1],3))+'('+str(x[i])+'-x)^2+'+str(round(m[i]/2/h[i-1],3))+'(x-'+str(x[i-1])+')^2'+'+'+str(round(y[i]-m[i]/2*h[i-1],3)))\n",
    "    for i in range(1,n+1):\n",
    "        if x[i-1]<=x0 and x0<=x[i]:\n",
    "            s2=-m[i-1]/2/h[i-1]*(x[i]-x0)**2+m[i]/2/h[i-1]*(x0-x[i-1])**2+y[i]-m[i]/2*h[i-1]\n",
    "    return s2"
   ]
  },
  {
   "cell_type": "code",
   "execution_count": null,
   "metadata": {},
   "outputs": [],
   "source": [
    "\n",
    "print(\"========================================================================================\")\n",
    "print(\"Cac da thuc spline bac 2\")\n",
    "spline2(1,x[0])"
   ]
  },
  {
   "cell_type": "markdown",
   "metadata": {},
   "source": [
    "### ***Vẽ đồ thị***"
   ]
  },
  {
   "cell_type": "code",
   "execution_count": 8,
   "metadata": {},
   "outputs": [
    {
     "data": {
      "image/png": "[encoded data removed]",
      "text/plain": [
       "<Figure size 432x288 with 1 Axes>"
      ]
     },
     "metadata": {
      "needs_background": "light"
     },
     "output_type": "display_data"
    }
   ],
   "source": [
    "\n",
    "x0=np.linspace(x[0], x[n], 1000)\n",
    "y3=[]\n",
    "y1=[]\n",
    "y2=[]\n",
    "for i in x0:\n",
    "  y3.append(spline3(0,i))\n",
    "  y1.append(spline1(0,i))\n",
    "  y2.append(spline2(0,i))\n",
    "plt.plot(x0,y3,'red')\n",
    "plt.plot(x0,y1,'green')\n",
    "plt.plot(x0,y2,'blue')\n",
    "plt.scatter(x,y)\n",
    "plt.show()"
   ]
  }
 ],
 "metadata": {
  "interpreter": {
   "hash": "183bbf6827d058c2a2fb0f4acdc0420849dda2b4380af0e437e38c64d798d8b7"
  },
  "kernelspec": {
   "display_name": "Python 3.8.8 ('base')",
   "language": "python",
   "name": "python3"
  },
  "language_info": {
   "codemirror_mode": {
    "name": "ipython",
    "version": 3
   },
   "file_extension": ".py",
   "mimetype": "text/x-python",
   "name": "python",
   "nbconvert_exporter": "python",
   "pygments_lexer": "ipython3",
   "version": "3.8.8"
  },
  "orig_nbformat": 4
 },
 "nbformat": 4,
 "nbformat_minor": 2
}
